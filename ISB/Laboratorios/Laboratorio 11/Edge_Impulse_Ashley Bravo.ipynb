{
 "cells": [
  {
   "cell_type": "markdown",
   "metadata": {},
   "source": [
    "### Pasar el archivo txt a csv"
   ]
  },
  {
   "cell_type": "markdown",
   "metadata": {},
   "source": [
    "Nombre: Ashley Estefanía Bravo Bravo\n",
    "Código: 70561258"
   ]
  },
  {
   "cell_type": "markdown",
   "metadata": {},
   "source": [
    "Se lee el archivo txt, anteriormente se borra las primeras 3 filas de texto, luego se dividen los valores por espacios, se creando columnas, debido a que solo nos interesan la primera y última columna usamos drop para eliminar esos datos."
   ]
  },
  {
   "cell_type": "code",
   "execution_count": 17,
   "metadata": {},
   "outputs": [],
   "source": [
    "import pandas as pd\n",
    "\n",
    "# Read data from text file\n",
    "def save_to_csv(file_name):\n",
    "    with open(file_name+\".txt\", 'r') as file:\n",
    "        lines = file.readlines()\n",
    "    fs=1000\n",
    "    # Calculate time values\n",
    "    # Parse data and create DataFrame\n",
    "    data = [list(map(int, line.strip().split())) for line in lines]\n",
    "    df = pd.DataFrame(data, columns=['timestamp', 'Column2', 'Column3', 'Column4', 'Column5','value'])\n",
    "    # Drop columns 2, 3, 4, and 5\n",
    "    df = df.drop(['Column2', 'Column3', 'Column4', 'Column5'], axis=1)\n",
    "    # Display the modified DataFrame\n",
    "    df['value'] = (((df['value'] / 1024) - 0.5) * 3.3) / 1009 # Calcular la señal en milivoltios\n",
    "    total_samples = len(df['value'])\n",
    "    time_values = [i / fs for i in range(total_samples)]\n",
    "    df['timestamp'] = time_values\n",
    "    # Save the modified DataFrame to a CSV file\n",
    "    df.to_csv(file_name+\".csv\", index=False)\n",
    "#La fórmula de conversión es distinta en EEG\n",
    "def save_to_csv_eeg(file_name):\n",
    "    with open(file_name+\".txt\", 'r') as file:\n",
    "        lines = file.readlines()\n",
    "    fs=1000\n",
    "    # Calculate time values\n",
    "    # Parse data and create DataFrame\n",
    "    data = [list(map(int, line.strip().split())) for line in lines]\n",
    "    df = pd.DataFrame(data, columns=['timestamp', 'Column2', 'Column3', 'Column4', 'Column5','value'])\n",
    "    # Drop columns 2, 3, 4, and 5\n",
    "    df = df.drop(['Column2', 'Column3', 'Column4', 'Column5'], axis=1)\n",
    "    # Display the modified DataFrame\n",
    "    df['value'] = (((df['value'] / 1024) - 0.5) * 3.3) / (41782) # Calcular la señal en microvoltios\n",
    "    total_samples = len(df['value'])\n",
    "    time_values = [i / fs for i in range(total_samples)]\n",
    "    df['timestamp'] = time_values\n",
    "    # Save the modified DataFrame to a CSV file\n",
    "    df.to_csv(file_name+\".csv\", index=False)"
   ]
  },
  {
   "cell_type": "markdown",
   "metadata": {},
   "source": [
    "## Subir archivo a edge impulse"
   ]
  },
  {
   "cell_type": "markdown",
   "metadata": {},
   "source": [
    "Se coloca el key  del projecto específico, se tienen 3 en total. Uno para EMG, ECG y EEG. Así mismo el file a subir. En mi caso subí uno por unos mediante la lista files en las que especifiqué el nombre del archivo."
   ]
  },
  {
   "cell_type": "code",
   "execution_count": 2,
   "metadata": {},
   "outputs": [],
   "source": [
    "import requests\n",
    "import os\n",
    "\n",
    "def subir_edge_impulse(api_key,label,files):\n",
    "    #api_key = 'ei_58a85c391b3dad3a4637adee89292e852f1bdcd628e5e76cde4e2d84b44a13cf' #API del projecto de EEG\n",
    "\n",
    "    # Add the files you want to upload to Edge Impulse\n",
    "    #files = [\n",
    "    #    'RESOLVIENDO PROBLEMAS MATEMATICOS - EEG.csv'\n",
    "    #]\n",
    "\n",
    "    # Replace the label with your own.\n",
    "    #label = 'EEG'\n",
    "\n",
    "    # Creating the data payload for the request.\n",
    "    files_to_upload = [\n",
    "        ('data', (os.path.basename(file), open(file, 'rb'), 'application/csv')) for file in files\n",
    "    ]\n",
    "\n",
    "    # Upload the file to Edge Impulse using the API, and print the response.\n",
    "    res = requests.post(\n",
    "        url='https://ingestion.edgeimpulse.com/api/training/files',\n",
    "        headers={\n",
    "            'x-label': label,\n",
    "            'x-api-key': api_key,\n",
    "        },\n",
    "        files=files_to_upload\n",
    "    )\n",
    "\n",
    "    if res.status_code == 200:\n",
    "        print('Uploaded file(s) to Edge Impulse\\n', res.status_code, res.content)\n",
    "    else:\n",
    "        print('Failed to upload file(s) to Edge Impulse\\n', res.status_code, res.content)\n"
   ]
  },
  {
   "cell_type": "markdown",
   "metadata": {},
   "source": [
    "# Subir EMG"
   ]
  },
  {
   "cell_type": "markdown",
   "metadata": {},
   "source": [
    "Para el proyecto de EMG el api-key es: ei_34fb94faed24bb0c7282021323e18059ee8ad117e5e297d2d8321921163988af\t"
   ]
  },
  {
   "cell_type": "code",
   "execution_count": 7,
   "metadata": {},
   "outputs": [
    {
     "name": "stdout",
     "output_type": "stream",
     "text": [
      "Reposo\n",
      "Oposición\n",
      "Tensión\n"
     ]
    }
   ],
   "source": [
    "api_key=\"ei_34fb94faed24bb0c7282021323e18059ee8ad117e5e297d2d8321921163988af\"\n",
    "files=[\"Reposo\",\"Oposición\",\"Tensión\"]\n",
    "label=\"EMG\"\n",
    "for name in files:\n",
    "    #print(name)\n",
    "    save_to_csv(name)"
   ]
  },
  {
   "cell_type": "code",
   "execution_count": 8,
   "metadata": {},
   "outputs": [
    {
     "name": "stdout",
     "output_type": "stream",
     "text": [
      "Uploaded file(s) to Edge Impulse\n",
      " 200 b'{\"success\":true,\"files\":[{\"success\":true,\"projectId\":431149,\"sampleId\":1059393372,\"fileName\":\"Reposo.csv.50ranip9.json\"},{\"success\":true,\"projectId\":431149,\"sampleId\":1059393374,\"fileName\":\"Oposici\\xc3\\xb3n.csv.50ranj4o.json\"},{\"success\":true,\"projectId\":431149,\"sampleId\":1059393375,\"fileName\":\"Tensi\\xc3\\xb3n.csv.50ranjeg.json\"}]}'\n"
     ]
    }
   ],
   "source": [
    "files=[\"Reposo.csv\",\"Oposición.csv\",\"Tensión.csv\"]\n",
    "subir_edge_impulse(api_key,label,files)\n"
   ]
  },
  {
   "cell_type": "markdown",
   "metadata": {},
   "source": [
    "# Subir EKG"
   ]
  },
  {
   "cell_type": "code",
   "execution_count": 10,
   "metadata": {},
   "outputs": [
    {
     "name": "stdout",
     "output_type": "stream",
     "text": [
      "Reposo_EKG\n",
      "Respiración_EKG\n",
      "Ejercicio_EKG\n",
      "Uploaded file(s) to Edge Impulse\n",
      " 200 b'{\"success\":true,\"files\":[{\"success\":true,\"projectId\":431151,\"sampleId\":1059393567,\"fileName\":\"Reposo_EKG.csv.50rbaq0b.json\"},{\"success\":true,\"projectId\":431151,\"sampleId\":1059393568,\"fileName\":\"Respiraci\\xc3\\xb3n_EKG.csv.50rbaq8f.json\"},{\"success\":true,\"projectId\":431151,\"sampleId\":1059393569,\"fileName\":\"Ejercicio_EKG.csv.50rbaqeg.json\"}]}'\n"
     ]
    }
   ],
   "source": [
    "api_key=\"ei_f714ed137b5002ea923a95a61069eca171ec76cf2dd84c13375693ce4442966f\"\n",
    "files=[\"Reposo_EKG\",\"Respiración_EKG\",\"Ejercicio_EKG\"]\n",
    "label=\"EKG\"\n",
    "for name in files:\n",
    "    print(name)\n",
    "    save_to_csv(name)\n",
    "#subir_edge_impulse(api_key,label,name+\".csv\")\n",
    "#subir\n",
    "files=[\"Reposo_EKG.csv\",\"Respiración_EKG.csv\",\"Ejercicio_EKG.csv\"]\n",
    "subir_edge_impulse(api_key,label,files)"
   ]
  },
  {
   "cell_type": "markdown",
   "metadata": {},
   "source": [
    "# Subir EEG"
   ]
  },
  {
   "cell_type": "code",
   "execution_count": 18,
   "metadata": {},
   "outputs": [
    {
     "name": "stdout",
     "output_type": "stream",
     "text": [
      "Reposo-EEG\n",
      "Problemas mat-EEG\n",
      "Ojos-EEG\n",
      "Uploaded file(s) to Edge Impulse\n",
      " 200 b'{\"success\":true,\"files\":[{\"success\":true,\"projectId\":431152,\"sampleId\":1059393761,\"fileName\":\"Reposo-EEG.csv.50rbm516.json\"},{\"success\":true,\"projectId\":431152,\"sampleId\":1059393762,\"fileName\":\"Problemas mat-EEG.csv.50rbm599.json\"},{\"success\":true,\"projectId\":431152,\"sampleId\":1059393763,\"fileName\":\"Ojos-EEG.csv.50rbm5g9.json\"}]}'\n"
     ]
    }
   ],
   "source": [
    "api_key=\"ei_58a85c391b3dad3a4637adee89292e852f1bdcd628e5e76cde4e2d84b44a13cf\"\n",
    "files=[\"Reposo-EEG\",\"Problemas mat-EEG\",\"Ojos-EEG\"]\n",
    "label=\"EKG\"\n",
    "for name in files:\n",
    "    print(name)\n",
    "    save_to_csv_eeg(name)#La fórmula de conversión es distinta en EEG\n",
    "#subir\n",
    "files=[\"Reposo-EEG.csv\",\"Problemas mat-EEG.csv\",\"Ojos-EEG.csv\"]\n",
    "subir_edge_impulse(api_key,label,files)"
   ]
  }
 ],
 "metadata": {
  "kernelspec": {
   "display_name": "Python 3",
   "language": "python",
   "name": "python3"
  },
  "language_info": {
   "codemirror_mode": {
    "name": "ipython",
    "version": 3
   },
   "file_extension": ".py",
   "mimetype": "text/x-python",
   "name": "python",
   "nbconvert_exporter": "python",
   "pygments_lexer": "ipython3",
   "version": "3.10.6"
  }
 },
 "nbformat": 4,
 "nbformat_minor": 2
}
