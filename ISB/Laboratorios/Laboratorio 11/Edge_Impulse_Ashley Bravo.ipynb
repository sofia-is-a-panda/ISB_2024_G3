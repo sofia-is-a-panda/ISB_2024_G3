{
 "cells": [
  {
   "cell_type": "markdown",
   "metadata": {},
   "source": [
    "### Pasar el archivo txt a csv"
   ]
  },
  {
   "cell_type": "markdown",
   "metadata": {},
   "source": [
    "Nombre: Ashley Estefanía Bravo Bravo\n",
    "Código: 70561258"
   ]
  },
  {
   "cell_type": "markdown",
   "metadata": {},
   "source": [
    "Se lee el archivo txt, anteriormente se borra las primeras 3 filas de texto, luego se dividen los valores por espacios, se creando columnas, debido a que solo nos interesan la primera y última columna usamos drop para eliminar esos datos."
   ]
  },
  {
   "cell_type": "code",
   "execution_count": null,
   "metadata": {},
   "outputs": [],
   "source": [
    "import pandas as pd\n",
    "\n",
    "# Read data from text file\n",
    "with open('Reposo-EEG.txt', 'r') as file:\n",
    "    lines = file.readlines()\n",
    "\n",
    "# Parse data and create DataFrame\n",
    "data = [list(map(int, line.strip().split())) for line in lines]\n",
    "df = pd.DataFrame(data, columns=['timestamp', 'Column2', 'Column3', 'Column4', 'Column5','value'])\n",
    "# Drop columns 2, 3, 4, and 5\n",
    "df = df.drop(['Column2', 'Column3', 'Column4', 'Column5'], axis=1)\n",
    "# Display the modified DataFrame\n",
    "print(df)\n",
    "# Save the modified DataFrame to a CSV file\n",
    "df.to_csv('Reposo-EEG.csv', index=False)"
   ]
  },
  {
   "cell_type": "markdown",
   "metadata": {},
   "source": [
    "## Subir archivo a edge impulse"
   ]
  },
  {
   "cell_type": "markdown",
   "metadata": {},
   "source": [
    "Se coloca el key  del projecto específico, se tienen 3 en total. Uno para EMG, ECG y EEG. Así mismo el file a subir. En mi caso subí uno por unos mediante la lista files en las que especifiqué el nombre del archivo."
   ]
  },
  {
   "cell_type": "code",
   "execution_count": null,
   "metadata": {},
   "outputs": [],
   "source": [
    "import requests\n",
    "import os\n",
    "\n",
    "api_key = 'ei_58a85c391b3dad3a4637adee89292e852f1bdcd628e5e76cde4e2d84b44a13cf' #API del projecto de EEG\n",
    "\n",
    "# Add the files you want to upload to Edge Impulse\n",
    "files = [\n",
    "    'RESOLVIENDO PROBLEMAS MATEMATICOS - EEG.csv'\n",
    "]\n",
    "\n",
    "# Replace the label with your own.\n",
    "label = 'EEG'\n",
    "\n",
    "# Creating the data payload for the request.\n",
    "files_to_upload = [\n",
    "    ('data', (os.path.basename(file), open(file, 'rb'), 'application/csv')) for file in files\n",
    "]\n",
    "\n",
    "# Upload the file to Edge Impulse using the API, and print the response.\n",
    "res = requests.post(\n",
    "    url='https://ingestion.edgeimpulse.com/api/training/files',\n",
    "    headers={\n",
    "        'x-label': label,\n",
    "        'x-api-key': api_key,\n",
    "    },\n",
    "    files=files_to_upload\n",
    ")\n",
    "\n",
    "if res.status_code == 200:\n",
    "    print('Uploaded file(s) to Edge Impulse\\n', res.status_code, res.content)\n",
    "else:\n",
    "    print('Failed to upload file(s) to Edge Impulse\\n', res.status_code, res.content)\n"
   ]
  }
 ],
 "metadata": {
  "language_info": {
   "name": "python"
  }
 },
 "nbformat": 4,
 "nbformat_minor": 2
}
