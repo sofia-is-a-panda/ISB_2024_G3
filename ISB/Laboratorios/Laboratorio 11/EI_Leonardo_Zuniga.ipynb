{
 "cells": [
  {
   "cell_type": "code",
   "execution_count": 77,
   "metadata": {},
   "outputs": [],
   "source": [
    "import pandas as pd\n",
    "import numpy as np\n",
    "import requests\n",
    "import os"
   ]
  },
  {
   "cell_type": "markdown",
   "metadata": {},
   "source": [
    "# GUARDADO DE SENALES EMG"
   ]
  },
  {
   "cell_type": "code",
   "execution_count": 78,
   "metadata": {},
   "outputs": [],
   "source": [
    "\n",
    "#Empezamos leyendo todas los 3 casos de senales\n",
    "array_reposo = np.genfromtxt(\"EMG_Reposo.txt\",delimiter=\"\t\",skip_header = 2) #leemos el archivo txt\n",
    "array_tension = np.genfromtxt(\"EMG_Tension.txt\",delimiter=\"\t\",skip_header = 2) #leemos el archivo txt\n",
    "array_oposicion = np.genfromtxt(\"EMG_Oposicion.txt\",delimiter=\"\t\",skip_header = 2) #leemos el archivo txt\n",
    "\n",
    "#Leemos los valores\n",
    "values_reposo=array_reposo[:,-2]\n",
    "values_tension=array_tension[:,-2]\n",
    "values_oposicion=array_oposicion[:,-2]\n",
    "#Convertimos los valores a voltios\n",
    "\n",
    "values_reposo=(((values_reposo/(1024))-0.5)*3.3)/(1009)\n",
    "values_tension=(((values_tension/(1024))-0.5)*3.3)/(1009)\n",
    "values_oposicion=(((values_oposicion/(1024))-0.5)*3.3)/(1009)\n",
    "\n",
    "#Convertimos los valores a milivoltios\n",
    "values_reposo=values_reposo*1000\n",
    "values_tension=values_tension*1000\n",
    "values_oposicion=values_oposicion*1000\n",
    "#Cantidad de valores\n",
    "cantidad_reposo=np.size(values_reposo)\n",
    "cantidad_tension=np.size(values_tension)\n",
    "cantidad_oposicion=np.size(values_oposicion)\n",
    "#Siendo la frecuencia de muestreo del BITalino de 1000 Hz\n",
    "\n",
    "#Calcular timestamps\n",
    "tiempo_reposo=np.arange(0,cantidad_reposo)\n",
    "tiempo_reposo=tiempo_reposo/1000\n",
    "\n",
    "tiempo_tension=np.arange(0,cantidad_tension)\n",
    "tiempo_tension=tiempo_tension/1000\n",
    "\n",
    "tiempo_oposicion=np.arange(0,cantidad_oposicion)\n",
    "tiempo_oposicion=tiempo_oposicion/1000\n",
    "#Guardamos data en diccionarios\n",
    "data_reposo = {\n",
    "    'timestamp': tiempo_reposo,\n",
    "    'value': values_reposo\n",
    "}\n",
    "data_tension = {\n",
    "    'timestamp': tiempo_tension,\n",
    "    'value': values_tension\n",
    "}\n",
    "data_oposicion = {\n",
    "    'timestamp': tiempo_oposicion,\n",
    "    'value': values_oposicion\n",
    "}\n",
    "#Nos apoyamos en dataframes para estructurar la data\n",
    "df_reposo = pd.DataFrame(data_reposo)\n",
    "df_tension = pd.DataFrame(data_tension)\n",
    "df_oposicion = pd.DataFrame(data_oposicion)\n",
    "#Guardamos e ignoramos el indice, ya que edge impulse no lo usa\n",
    "df_reposo.to_csv(\"EMG_reposo.csv\",index=False)\n",
    "df_tension.to_csv(\"EMG_tension.csv\",index=False)\n",
    "df_oposicion.to_csv(\"EMG_oposicion.csv\",index=False)"
   ]
  },
  {
   "cell_type": "markdown",
   "metadata": {},
   "source": [
    "# GUARDADO DE SENALES ECG"
   ]
  },
  {
   "cell_type": "code",
   "execution_count": 79,
   "metadata": {},
   "outputs": [],
   "source": [
    "#Empezamos leyendo todas los 3 casos de senales\n",
    "array_reposo = np.genfromtxt(\"Reposo_EKG.txt\",delimiter=\"\t\",skip_header = 2) #leemos el archivo txt\n",
    "array_respiracion = np.genfromtxt(\"Respiracion_EKG.txt\",delimiter=\"\t\",skip_header = 2) #leemos el archivo txt\n",
    "array_ejercicio = np.genfromtxt(\"Ejercicio_EKG.txt\",delimiter=\"\t\",skip_header = 2) #leemos el archivo txt\n",
    "\n",
    "#Leemos los valores\n",
    "values_reposo=array_reposo[:,-2]\n",
    "values_respiracion=array_respiracion[:,-2]\n",
    "values_ejercicio=array_ejercicio[:,-2]\n",
    "#Convertimos los valores a voltios\n",
    "\n",
    "values_reposo=(((values_reposo/(1024))-0.5)*3.3)/(1100)\n",
    "values_respiracion=(((values_respiracion/(1024))-0.5)*3.3)/(1100)\n",
    "values_ejercicio=(((values_ejercicio/(1024))-0.5)*3.3)/(1100)\n",
    "\n",
    "#Convertimos los valores a milivoltios\n",
    "values_reposo=values_reposo*1000\n",
    "values_respiracion=values_respiracion*1000\n",
    "values_ejercicio=values_ejercicio*1000\n",
    "#Cantidad de valores\n",
    "cantidad_reposo=np.size(values_reposo)\n",
    "cantidad_respiracion=np.size(values_respiracion)\n",
    "cantidad_ejercicio=np.size(values_ejercicio)\n",
    "#Siendo la frecuencia de muestreo del BITalino de 1000 Hz\n",
    "\n",
    "#Calcular timestamps\n",
    "tiempo_reposo=np.arange(0,cantidad_reposo)\n",
    "tiempo_reposo=tiempo_reposo/1000\n",
    "\n",
    "tiempo_respiracion=np.arange(0,cantidad_respiracion)\n",
    "tiempo_respiracion=tiempo_respiracion/1000\n",
    "\n",
    "tiempo_ejercicio=np.arange(0,cantidad_ejercicio)\n",
    "tiempo_ejercicio=tiempo_ejercicio/1000\n",
    "#Guardamos data en diccionarios\n",
    "data_reposo = {\n",
    "    'timestamp': tiempo_reposo,\n",
    "    'value': values_reposo\n",
    "}\n",
    "data_respiracion = {\n",
    "    'timestamp': tiempo_respiracion,\n",
    "    'value': values_respiracion\n",
    "}\n",
    "data_ejercicio = {\n",
    "    'timestamp': tiempo_ejercicio,\n",
    "    'value': values_ejercicio\n",
    "}\n",
    "#Nos apoyamos en dataframes para estructurar la data\n",
    "df_reposo = pd.DataFrame(data_reposo)\n",
    "df_respiracion = pd.DataFrame(data_respiracion)\n",
    "df_ejercicio = pd.DataFrame(data_ejercicio)\n",
    "#Guardamos e ignoramos el indice, ya que edge impulse no lo usa\n",
    "df_reposo.to_csv(\"ECG_reposo.csv\",index=False)\n",
    "df_respiracion.to_csv(\"ECG_respiracion.csv\",index=False)\n",
    "df_ejercicio.to_csv(\"ECG_ejercicio.csv\",index=False)"
   ]
  },
  {
   "cell_type": "markdown",
   "metadata": {},
   "source": [
    "# GUARDADO DE SENALES EEG"
   ]
  },
  {
   "cell_type": "code",
   "execution_count": 80,
   "metadata": {},
   "outputs": [],
   "source": [
    "\n",
    "#Empezamos leyendo todas los 4 casos de senales\n",
    "array_reposo = np.genfromtxt(\"EEG_reposo.txt\",delimiter=\"\t\",skip_header = 2) #leemos el archivo txt\n",
    "array_a_o = np.genfromtxt(\"EEG_abierto_cerrado.txt\",delimiter=\"\t\",skip_header = 2) #leemos el archivo txt\n",
    "array_cerrado = np.genfromtxt(\"EEG_ojo_cerrado.txt\",delimiter=\"\t\",skip_header = 2) #leemos el archivo txt\n",
    "array_preguntas = np.genfromtxt(\"EEG_Preguntas.txt\",delimiter=\"\t\",skip_header = 2) #leemos el archivo txt\n",
    "#Leemos los valores\n",
    "values_reposo=array_reposo[:,-2]\n",
    "values_a_o=array_a_o[:,-2]\n",
    "values_cerrado=array_cerrado[:,-2]\n",
    "values_preguntas=array_preguntas[:,-2]\n",
    "#Convertimos los valores a voltios\n",
    "\n",
    "values_reposo=(((values_reposo/(1024))-0.5)*3.3)/(41782)\n",
    "values_a_o=(((values_a_o/(1024))-0.5)*3.3)/(41782)\n",
    "values_cerrado=(((values_cerrado/(1024))-0.5)*3.3)/(41782)\n",
    "values_preguntas=(((values_preguntas/(1024))-0.5)*3.3)/(41782)\n",
    "\n",
    "#Convertimos los valores a microvoltios\n",
    "values_reposo=values_reposo*1000000\n",
    "values_a_o=values_a_o*1000000\n",
    "values_cerrado=values_cerrado*1000000\n",
    "values_preguntas=values_preguntas*1000000\n",
    "#Cantidad de valores\n",
    "cantidad_reposo=np.size(values_reposo)\n",
    "cantidad_a_o=np.size(values_a_o)\n",
    "cantidad_cerrado=np.size(values_cerrado)\n",
    "cantidad_preguntas=np.size(values_preguntas)\n",
    "#Siendo la frecuencia de muestreo del BITalino de 1000 Hz\n",
    "\n",
    "#Calcular timestamps\n",
    "tiempo_reposo=np.arange(0,cantidad_reposo)\n",
    "tiempo_reposo=tiempo_reposo/1000\n",
    "\n",
    "tiempo_a_o=np.arange(0,cantidad_a_o)\n",
    "tiempo_a_o=tiempo_a_o/1000\n",
    "\n",
    "tiempo_cerrado=np.arange(0,cantidad_cerrado)\n",
    "tiempo_cerrado=tiempo_cerrado/1000\n",
    "\n",
    "tiempo_preguntas=np.arange(0,cantidad_preguntas)\n",
    "tiempo_preguntas=tiempo_preguntas/1000\n",
    "#Guardamos data en diccionarios\n",
    "data_reposo = {\n",
    "    'timestamp': tiempo_reposo,\n",
    "    'value': values_reposo\n",
    "}\n",
    "data_a_o = {\n",
    "    'timestamp': tiempo_a_o,\n",
    "    'value': values_a_o\n",
    "}\n",
    "data_cerrado = {\n",
    "    'timestamp': tiempo_cerrado,\n",
    "    'value': values_cerrado\n",
    "}\n",
    "data_preguntas = {\n",
    "    'timestamp': tiempo_preguntas,\n",
    "    'value': values_preguntas\n",
    "}\n",
    "#Nos apoyamos en dataframes para estructurar la data\n",
    "df_reposo = pd.DataFrame(data_reposo)\n",
    "df_a_o = pd.DataFrame(data_a_o)\n",
    "df_cerrado = pd.DataFrame(data_cerrado)\n",
    "df_preguntas = pd.DataFrame(data_preguntas)\n",
    "#Guardamos e ignoramos el indice, ya que edge impulse no lo usa\n",
    "df_reposo.to_csv(\"EEG_reposo.csv\",index=False)\n",
    "df_a_o.to_csv(\"EEG_abierto_cerrado.csv\",index=False)\n",
    "df_cerrado.to_csv(\"EEG_cerrado.csv\",index=False)\n",
    "df_preguntas.to_csv(\"EEG_preguntas.csv\",index=False)"
   ]
  },
  {
   "cell_type": "markdown",
   "metadata": {},
   "source": [
    "# SUBIDA DE ARCHIVOS DE EMG"
   ]
  },
  {
   "cell_type": "code",
   "execution_count": 81,
   "metadata": {},
   "outputs": [
    {
     "name": "stdout",
     "output_type": "stream",
     "text": [
      "Uploaded file(s) to Edge Impulse\n",
      " 200 b'{\"success\":true,\"files\":[{\"success\":true,\"projectId\":431108,\"sampleId\":1059606236,\"fileName\":\"EMG_reposo.csv.50rn48bp.json\"},{\"success\":true,\"projectId\":431108,\"sampleId\":1059606237,\"fileName\":\"EMG_tension.csv.50rn48iu.json\"},{\"success\":true,\"projectId\":431108,\"sampleId\":1059606238,\"fileName\":\"EMG_oposicion.csv.50rn48ri.json\"}]}'\n"
     ]
    }
   ],
   "source": [
    "api_key = 'ei_3e33aa0eab5356608b200890f234772aec0f8f6f23cafc223aa53bf9f36bc22f'\n",
    "\n",
    "# Add the files you want to upload to Edge Impulse\n",
    "files = [\n",
    "    'EMG_reposo.csv',\n",
    "    'EMG_tension.csv',\n",
    "    'EMG_oposicion.csv'\n",
    "]\n",
    "# # Replace the label with your own.\n",
    "label = 'EMG'\n",
    "# Upload the file to Edge Impulse using the API, and print the response.\n",
    "res = requests.post(url='https://ingestion.edgeimpulse.com/api/training/files',\n",
    "                    headers={\n",
    "                        'x-label': label,\n",
    "                        'x-api-key': api_key,\n",
    "                    },\n",
    "                    # Creating the data payload for the request.\n",
    "                    files=(('data', (os.path.basename(i), open(\n",
    "                        i, 'rb'), 'text/csv')) for i in files)\n",
    "                    )\n",
    "\n",
    "if (res.status_code == 200):\n",
    "    print('Uploaded file(s) to Edge Impulse\\n', res.status_code, res.content)\n",
    "else:\n",
    "    print('Failed to upload file(s) to Edge Impulse\\n',\n",
    "          res.status_code, res.content)"
   ]
  },
  {
   "cell_type": "markdown",
   "metadata": {},
   "source": [
    "# SUBIDA DE ARCHIVOS DE ECG"
   ]
  },
  {
   "cell_type": "code",
   "execution_count": 82,
   "metadata": {},
   "outputs": [
    {
     "name": "stdout",
     "output_type": "stream",
     "text": [
      "Uploaded file(s) to Edge Impulse\n",
      " 200 b'{\"success\":true,\"files\":[{\"success\":true,\"projectId\":431106,\"sampleId\":1059606239,\"fileName\":\"ECG_reposo.csv.50rn4csd.json\"},{\"success\":true,\"projectId\":431106,\"sampleId\":1059606240,\"fileName\":\"ECG_respiracion.csv.50rn4d5e.json\"},{\"success\":true,\"projectId\":431106,\"sampleId\":1059606241,\"fileName\":\"ECG_ejercicio.csv.50rn4daj.json\"}]}'\n"
     ]
    }
   ],
   "source": [
    "api_key = 'ei_98544640d5c9446a994a9be94c655b1013dd5c73fb38ab73381ec73c67a10670'\n",
    "\n",
    "# Add the files you want to upload to Edge Impulse\n",
    "files = [\n",
    "    'ECG_reposo.csv',\n",
    "    'ECG_respiracion.csv',\n",
    "    'ECG_ejercicio.csv'\n",
    "]\n",
    "# # Replace the label with your own.\n",
    "label = 'ECG'\n",
    "# Upload the file to Edge Impulse using the API, and print the response.\n",
    "res = requests.post(url='https://ingestion.edgeimpulse.com/api/training/files',\n",
    "                    headers={\n",
    "                        'x-label': label,\n",
    "                        'x-api-key': api_key,\n",
    "                    },\n",
    "                    # Creating the data payload for the request.\n",
    "                    files=(('data', (os.path.basename(i), open(\n",
    "                        i, 'rb'), 'text/csv')) for i in files)\n",
    "                    )\n",
    "\n",
    "if (res.status_code == 200):\n",
    "    print('Uploaded file(s) to Edge Impulse\\n', res.status_code, res.content)\n",
    "else:\n",
    "    print('Failed to upload file(s) to Edge Impulse\\n',\n",
    "          res.status_code, res.content)"
   ]
  },
  {
   "cell_type": "markdown",
   "metadata": {},
   "source": [
    "# SUBIDA DE ARCHIVOS DE EEG"
   ]
  },
  {
   "cell_type": "code",
   "execution_count": 83,
   "metadata": {},
   "outputs": [
    {
     "name": "stdout",
     "output_type": "stream",
     "text": [
      "Uploaded file(s) to Edge Impulse\n",
      " 200 b'{\"success\":true,\"files\":[{\"success\":true,\"projectId\":431107,\"sampleId\":1059606242,\"fileName\":\"EEG_reposo.csv.50rn4k81.json\"},{\"success\":true,\"projectId\":431107,\"sampleId\":1059606243,\"fileName\":\"EEG_abierto_cerrado.csv.50rn4ker.json\"},{\"success\":true,\"projectId\":431107,\"sampleId\":1059606244,\"fileName\":\"EEG_cerrado.csv.50rn4mgn.json\"},{\"success\":true,\"projectId\":431107,\"sampleId\":1059606245,\"fileName\":\"EEG_preguntas.csv.50rn4mpq.json\"}]}'\n"
     ]
    }
   ],
   "source": [
    "api_key = 'ei_f04d3d4bef11d0c2f858424419fb9d4de9c6373e0389725c061d57fcde5ce04a'\n",
    "\n",
    "# Add the files you want to upload to Edge Impulse\n",
    "files = [\n",
    "    'EEG_reposo.csv',\n",
    "    'EEG_abierto_cerrado.csv',\n",
    "    'EEG_cerrado.csv',\n",
    "    'EEG_preguntas.csv'\n",
    "]\n",
    "# # Replace the label with your own.\n",
    "label = 'EEG'\n",
    "# Upload the file to Edge Impulse using the API, and print the response.\n",
    "res = requests.post(url='https://ingestion.edgeimpulse.com/api/training/files',\n",
    "                    headers={\n",
    "                        'x-label': label,\n",
    "                        'x-api-key': api_key,\n",
    "                    },\n",
    "                    # Creating the data payload for the request.\n",
    "                    files=(('data', (os.path.basename(i), open(\n",
    "                        i, 'rb'), 'text/csv')) for i in files)\n",
    "                    )\n",
    "\n",
    "if (res.status_code == 200):\n",
    "    print('Uploaded file(s) to Edge Impulse\\n', res.status_code, res.content)\n",
    "else:\n",
    "    print('Failed to upload file(s) to Edge Impulse\\n',\n",
    "          res.status_code, res.content)"
   ]
  }
 ],
 "metadata": {
  "kernelspec": {
   "display_name": "Python 3",
   "language": "python",
   "name": "python3"
  },
  "language_info": {
   "codemirror_mode": {
    "name": "ipython",
    "version": 3
   },
   "file_extension": ".py",
   "mimetype": "text/x-python",
   "name": "python",
   "nbconvert_exporter": "python",
   "pygments_lexer": "ipython3",
   "version": "3.12.3"
  }
 },
 "nbformat": 4,
 "nbformat_minor": 2
}
